{
 "cells": [
  {
   "cell_type": "markdown",
   "metadata": {},
   "source": [
    "<img src=\"https://upload.wikimedia.org/wikipedia/commons/7/73/Ruby_logo.svg\" align=right alt=\"Ruby logo\">\n",
    "\n",
    "# Hi Ruby\n",
    "\n",
    "Bienvenue dans [iRuby](https://github.com/sciruby/iruby), un environnement pour expérimenter avec [Ruby](http://ruby-lang.org/).\n",
    "\n",
    "## Ressources\n",
    "\n",
    "Les liens suivant sont incontournables quand on veut commencer.\n",
    "\n",
    "* [Try Ruby](tryruby.org/)\n",
    "* [Learn X in Y minutes](http://learnxinyminutes.com/docs/fr-fr/ruby-fr/)\n",
    "* [Ruby in 20 minutes](https://www.ruby-lang.org/en/documentation/quickstart/)\n",
    "* [why's (poignant) guide to Ruby](http://www.rubyinside.com/media/poignant-guide.pdf) (pdf)"
   ]
  },
  {
   "cell_type": "code",
   "execution_count": null,
   "metadata": {
    "collapsed": false
   },
   "outputs": [],
   "source": [
    "# Ceci est du code, Ruby.\n",
    "\n",
    "❤ = \"Ruby\"\n",
    "\n",
    "3.times { puts ❤ }\n",
    "\n",
    "# Tapez Ctrl-Enter pour exécuter ce bloc de code."
   ]
  },
  {
   "cell_type": "markdown",
   "metadata": {},
   "source": [
    "## Exemple\n",
    "\n",
    "Un bout de code chantant la chanson _“99 bottles of beer on the wall”_ \n",
    "\n",
    "http://www.99-bottles-of-beer.net/language-ruby-670.html"
   ]
  },
  {
   "cell_type": "code",
   "execution_count": null,
   "metadata": {
    "collapsed": false
   },
   "outputs": [],
   "source": [
    "# There's more than one 'nice' way to do it ;-)\n",
    "# www.ruby-lang.org\n",
    "\n",
    "puts; puts \"   It's beer song time!\"; puts\n",
    " \n",
    "def bottles(n)\n",
    "  n == 1 ? \"#{n} bottle\" : \"#{n} bottles\"\n",
    "end\n",
    " \n",
    "@count = 99\n",
    "\n",
    "@count.downto(1)  {\n",
    "puts <<BEERSONG\n",
    "~~~~~~~~~~~~~~~~~~~~~~~~~~~~~~~~~\n",
    "   #{bottles(@count)} of beer on the wall\n",
    "   #{bottles(@count)} of beer\n",
    "   Take one down, pass it around\n",
    "   #{bottles(@count -= 1)} of beer on the wall\n",
    "BEERSONG\n",
    "}\n",
    " \n",
    "puts \"~~~~~~~~~~~~~~~~~~~~~~~~~~~~~~~~~\"\n",
    "puts; puts \"   No more beer on the wall :-(\""
   ]
  }
 ],
 "metadata": {
  "kernelspec": {
   "display_name": "Ruby 2.2.3",
   "language": "ruby",
   "name": "ruby"
  },
  "language_info": {
   "file_extension": "rb",
   "mimetype": "application/x-ruby",
   "name": "ruby",
   "version": "2.2.3"
  }
 },
 "nbformat": 4,
 "nbformat_minor": 0
}
